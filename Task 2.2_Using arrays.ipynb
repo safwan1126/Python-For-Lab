{
 "cells": [
  {
   "cell_type": "markdown",
   "metadata": {},
   "source": [
    "# Unit 2 task\n",
    "\n",
    "This Jupyter notebook is a template for this week's assignment. You should fill in the blank code and text cells below to answer the questions, and upload your completed notebook to Moodle for marking.\n",
    "\n",
    "Remember to:\n",
    "* print out the results of each calculation;\n",
    "* where you are asked to complete text cells, make sure you use complete, grammatically correct sentences.\n",
    "\n",
    "Make sure you run the cell below to import the NumPy package."
   ]
  },
  {
   "cell_type": "code",
   "execution_count": 2,
   "metadata": {},
   "outputs": [],
   "source": [
    "import numpy as np"
   ]
  },
  {
   "cell_type": "markdown",
   "metadata": {},
   "source": [
    "## Part 1\n",
    "\n",
    "### (a)\n",
    "\n",
    "The following statement creates an array of evenly spaced values:\n",
    "\n",
    "    np.array([0.5, 1. , 1.5, 2. , 2.5, 3. ])\n",
    "\n",
    "Use an appropriate NumPy function in the next cell to create an array containing the same values in a more efficient way, and assign this to a variable called `array_a`."
   ]
  },
  {
   "cell_type": "code",
   "execution_count": 3,
   "metadata": {},
   "outputs": [
    {
     "data": {
      "text/plain": [
       "array([0.5, 1. , 1.5, 2. , 2.5, 3. ])"
      ]
     },
     "execution_count": 3,
     "metadata": {},
     "output_type": "execute_result"
    }
   ],
   "source": [
    "### STUDENT CODE CELL\n",
    "\n",
    "array_a = np.linspace(0.5, 3, 6)\n",
    "array_a"
   ]
  },
  {
   "cell_type": "markdown",
   "metadata": {},
   "source": [
    "### (b)\n",
    "\n",
    "The following statement creates an array of evenly spaced **integers**: \n",
    "\n",
    "    array([ 5, 10, 15, 20, 25, 30])\n",
    "\n",
    "Again, use an appropriate NumPy function in the next cell to create an array containing the same values in a more efficient way, and assign this to a variable called `array_b`."
   ]
  },
  {
   "cell_type": "code",
   "execution_count": 4,
   "metadata": {},
   "outputs": [
    {
     "data": {
      "text/plain": [
       "array([ 5, 10, 15, 20, 25, 30])"
      ]
     },
     "execution_count": 4,
     "metadata": {},
     "output_type": "execute_result"
    }
   ],
   "source": [
    "### STUDENT CODE CELL\n",
    "\n",
    "array_b = np.arange(5, 35, 5)\n",
    "array_b"
   ]
  },
  {
   "cell_type": "markdown",
   "metadata": {},
   "source": [
    "### (c)\n",
    "\n",
    "Multiply the values in `array_a` and `array_b` together, assigning the results to a variable `array_c`."
   ]
  },
  {
   "cell_type": "code",
   "execution_count": 5,
   "metadata": {},
   "outputs": [],
   "source": [
    "### STUDENT CODE CELL\n",
    "\n",
    "array_c = array_a * array_b\n",
    "array_c"
   ]
  },
  {
   "cell_type": "markdown",
   "metadata": {},
   "source": [
    "### (d)\n",
    "\n",
    "Use array slicing to create an array `array_d` containing the elements from `array_c` but omitting the first and last elements."
   ]
  },
  {
   "cell_type": "code",
   "execution_count": 6,
   "metadata": {},
   "outputs": [
    {
     "data": {
      "text/plain": [
       "array([10. , 22.5, 40. , 62.5])"
      ]
     },
     "execution_count": 6,
     "metadata": {},
     "output_type": "execute_result"
    }
   ],
   "source": [
    "### STUDENT CODE CELL\n",
    "\n",
    "array_d = array_c[1:-1]\n",
    "array_d"
   ]
  },
  {
   "cell_type": "markdown",
   "metadata": {},
   "source": [
    "# (e)\n",
    "\n",
    "Use your web searching skills to find NumPy functions that will calculate the dot product and the cross product of two vectors. Use these functions to calculate both products for the vectors (0.3, 0.4, 1.2) and (0.4, -0.3, 1.2)."
   ]
  },
  {
   "cell_type": "code",
   "execution_count": 7,
   "metadata": {},
   "outputs": [
    {
     "name": "stdout",
     "output_type": "stream",
     "text": [
      "1.44\n",
      "[ 0.84  0.12 -0.25]\n"
     ]
    }
   ],
   "source": [
    "### STUDENT CODE CELL\n",
    "\n",
    "A = (0.3, 0.4, 1.2)\n",
    "B = (0.4, -0.3, 1.2)\n",
    "np.dot(A, B)\n",
    "np.cross(A, B)\n",
    "\n",
    "print(np.dot(A, B))\n",
    "print(np.cross(A, B))"
   ]
  },
  {
   "cell_type": "markdown",
   "metadata": {},
   "source": [
    "### (f)\n",
    "\n",
    "The for loop is useful when you need to deal with each element of an array in turn, but it can be slow compared to more specialized NumPy functions. In two separate code cells below, you should try adding together the contents of the array `data` in two different ways: \n",
    "- using a loop;\n",
    "- using the function `np.sum`.\n",
    "\n",
    "The `%%time` function (a Jupyter \"magic\" function, not part of Python) will tell you how long each takes. You may need to adjust the size of the array to get useful results.\n",
    "\n",
    "Use the following text cell to comment on the results."
   ]
  },
  {
   "cell_type": "code",
   "execution_count": 8,
   "metadata": {},
   "outputs": [],
   "source": [
    "# Depending on the speed of your computer, you may want to vary the size of this array.\n",
    "# Remember that you can interrupt the kernel if a calculation is taking too long!  \n",
    "\n",
    "data = np.ones(10000)\n"
   ]
  },
  {
   "cell_type": "code",
   "execution_count": 28,
   "metadata": {},
   "outputs": [
    {
     "name": "stdout",
     "output_type": "stream",
     "text": [
      "The sum is 4996.0\n",
      "CPU times: total: 15.6 ms\n",
      "Wall time: 2 ms\n"
     ]
    }
   ],
   "source": [
    "%%time\n",
    "### STUDENT CODE CELL\n",
    "\n",
    "sum = 0.\n",
    "\n",
    "# Add a loop here to add each element of data in turn to \"sum\".\n",
    "for value in data:\n",
    "    sum += value\n",
    "print(f\"The sum is {sum}\")"
   ]
  },
  {
   "cell_type": "code",
   "execution_count": 29,
   "metadata": {},
   "outputs": [
    {
     "name": "stdout",
     "output_type": "stream",
     "text": [
      "The sum is 0.0\n",
      "CPU times: total: 0 ns\n",
      "Wall time: 0 ns\n"
     ]
    }
   ],
   "source": [
    "%%time\n",
    "### STUDENT CODE CELL\n",
    "\n",
    "sum = 0. # Replace this line with a call to the np.sum function.\n",
    "\n",
    "np.sum(data)\n",
    "\n",
    "print(f\"The sum is {sum}\")"
   ]
  },
  {
   "cell_type": "markdown",
   "metadata": {},
   "source": [
    "##### STUDENT TEXT CELL: add to this text cell to comment on the results of timing the two different ways of carrying out the same calculation.\n",
    "\n",
    "The timing using the sum function instead of using a loop seems to be 50% slower initially. However figures are given both to 1 s.f. so so we can't accurately confirm this without some greater precision of the times. "
   ]
  },
  {
   "cell_type": "markdown",
   "metadata": {},
   "source": [
    "## Part 2:\n",
    "\n",
    "For this part of the task you will be working with the \"wheat spike\" example you saw in the first PHAS0007 \"Data Analysis and Statistics\" lecture, and use Python to reproduce some of the calculations you saw there.\n",
    "\n",
    "You'll probably want to consult the lecture slides on Dr Llorente Garcia's Moodle as well as the PHAS0007 Data Analysis Booklet.\n",
    "\n",
    "Download the file `wheatdata.txt` from Moodle and save it in the same directory as your Notebook. This data file contains the same data as on slide 11 of the lecture slides.\n",
    "\n",
    "### (a)\n",
    "\n",
    "Use the code cell below to do the following:-\n",
    "- Import the data from this file into an array using `np.loadtxt()`: choose your own (sensible) variable name for this array.\n",
    "- Print out the array with an appropriate text string."
   ]
  },
  {
   "cell_type": "code",
   "execution_count": 30,
   "metadata": {},
   "outputs": [
    {
     "name": "stdout",
     "output_type": "stream",
     "text": [
      "Data for number of spikes is [533. 440. 484. 446. 474. 492. 512. 515. 528. 572.]\n"
     ]
    }
   ],
   "source": [
    "### STUDENT CODE CELL\n",
    "\n",
    "data = np.loadtxt('wheatdata.txt')\n",
    "print(f'Data for number of spikes is {data}')\n"
   ]
  },
  {
   "cell_type": "markdown",
   "metadata": {},
   "source": [
    "### (b)\n",
    "\n",
    "Using information from the data analysis booklet or elsewhere, find the appropriate NumPy function to calculate the mean number of spikes in each patch. Calculate this in the cell below, and again, output this with an appropriate text string."
   ]
  },
  {
   "cell_type": "code",
   "execution_count": 31,
   "metadata": {},
   "outputs": [
    {
     "name": "stdout",
     "output_type": "stream",
     "text": [
      "Mean number of wheat spikes is 499.6\n"
     ]
    }
   ],
   "source": [
    "### STUDENT CODE CELL\n",
    "\n",
    "mean = np.mean(data)\n",
    "print(f'Mean number of wheat spikes is {mean}')"
   ]
  },
  {
   "cell_type": "markdown",
   "metadata": {},
   "source": [
    "### (c)\n",
    "\n",
    "The formula for the (sample) standard deviation is \n",
    "$$ \\sigma = \\sqrt{\\frac{\\sum{(x_i - \\bar{x})^2}}{N-1}}, $$\n",
    "\n",
    "   where $N$ is the number of data points and $\\bar{x}$ the average you just calculated. \n",
    "   \n",
    "   Use the python function `len()` to calculate a value for $N$ in the cell below, and again, output this with an appropriate text string. Remember, you can use \"SHIFT+TAB\" with the cursor on a function name to view the documentation for that function."
   ]
  },
  {
   "cell_type": "code",
   "execution_count": 32,
   "metadata": {},
   "outputs": [
    {
     "name": "stdout",
     "output_type": "stream",
     "text": [
      "Number of data points is 10\n"
     ]
    }
   ],
   "source": [
    "### STUDENT CODE CELL\n",
    "\n",
    "Number_of_data_points = len(data)\n",
    "print(f'Number of data points is {Number_of_data_points}')"
   ]
  },
  {
   "cell_type": "markdown",
   "metadata": {},
   "source": [
    "### (d)\n",
    "\n",
    "We're going to calculate the numerator of the equation for the standard deviation in steps. \n",
    "\n",
    "We can calculate the individual deviations $d_i = x_i - \\bar{x}$ as in the code cell below. You will need to make sure that the variable names here match the variable names you've chosen above."
   ]
  },
  {
   "cell_type": "code",
   "execution_count": 33,
   "metadata": {},
   "outputs": [
    {
     "name": "stdout",
     "output_type": "stream",
     "text": [
      "The individual deviations from the mean are [ 33.4 -59.6 -15.6 -53.6 -25.6  -7.6  12.4  15.4  28.4  72.4]\n"
     ]
    }
   ],
   "source": [
    "# Edit the variable names in this cell to match the variable names you have used above\n",
    "\n",
    "deviations = data - mean                            # calculate individual deviations\n",
    "print(\"The individual deviations from the mean are\", deviations) # output this value with an appropriate text string"
   ]
  },
  {
   "cell_type": "markdown",
   "metadata": {},
   "source": [
    "Note how this works: `spike_data` is an array of values, but `mean_spikes` is a single value. Numpy will automatically subtract `mean_spikes` from every element of the array `spike_data`."
   ]
  },
  {
   "cell_type": "markdown",
   "metadata": {},
   "source": [
    "### (e)\n",
    "\n",
    "Now we have calculated the individual deviations, we can square them, then sum them together using `np.sum()`. Do this in the cell below. Make sure you do the squaring and summing  in the right order though!\n",
    "\n",
    "Remember to print out the result with an appropriate text string."
   ]
  },
  {
   "cell_type": "code",
   "execution_count": 34,
   "metadata": {},
   "outputs": [
    {
     "name": "stdout",
     "output_type": "stream",
     "text": [
      "The sum of the square of the deviations is 14936.400000000001\n"
     ]
    }
   ],
   "source": [
    "### STUDENT CODE CELL\n",
    "\n",
    "square_of_deviations = np.square(deviations)\n",
    "sum_of_square_of_deviations = np.sum(square_of_deviations)\n",
    "\n",
    "### STUDENT CODE CELL\n",
    "\n",
    "Number_of_data_points = len(data)\n",
    "print(f'The sum of the square of the deviations is {sum_of_square_of_deviations}')"
   ]
  },
  {
   "cell_type": "markdown",
   "metadata": {},
   "source": [
    "### (f)\n",
    "\n",
    "Now you have all the elements you need to calculate the standard deviation using the equation in question 3 above. Do this in the cell below. You should find your answer is close to (but not exactly the same as) the standard deviation calculated in the lecture slides. \n",
    "\n",
    "Remember to print out the result with an appropriate text string. Yes, you will always need to do this."
   ]
  },
  {
   "cell_type": "code",
   "execution_count": 35,
   "metadata": {},
   "outputs": [
    {
     "name": "stdout",
     "output_type": "stream",
     "text": [
      "The standard deviation is 40.738188472243095\n"
     ]
    }
   ],
   "source": [
    "### STUDENT CODE CELL\n",
    "\n",
    "standard_deviation = ((sum_of_square_of_deviations)/(Number_of_data_points - 1))**(.5)\n",
    "print(f'The standard deviation is {standard_deviation}')"
   ]
  },
  {
   "cell_type": "markdown",
   "metadata": {},
   "source": [
    "That was rather an effort to calculate the standard deviation, and fortunately numpy has a function that will do this for you: `np.std()`.\n",
    "\n",
    "You do have to be a bit careful with this function, and you're about to see why. Run the cell below, compare the results to what you just calculated above, then read both the [documentation for `np.std()`](https://docs.scipy.org/doc/numpy/reference/generated/numpy.std.html) and the information in section 2.6 (p.13) of [Hughes and Hase](https://ebookcentral.proquest.com/lib/ucl/reader.action?docID=584562&ppg=25.) (You may need to sign in with your UCL credentials to access this link).\n",
    "\n",
    "### (g)\n",
    "\n",
    "Then use the text cell below to state which version of the standard deviation you should use here, and (briefly) why."
   ]
  },
  {
   "cell_type": "code",
   "execution_count": 36,
   "metadata": {},
   "outputs": [
    {
     "name": "stdout",
     "output_type": "stream",
     "text": [
      "Standard deviation: first calculation gives 38.647638996451 , second calculation gives 40.738188472243095\n"
     ]
    }
   ],
   "source": [
    "stdev_1 = np.std(data)          # Edit to reflect your chosen variable names\n",
    "stdev_2 = np.std(data, ddof=1)  # Edit to reflect your chosen variable names\n",
    "\n",
    "print(\"Standard deviation: first calculation gives\", stdev_1, \", second calculation gives\", stdev_2)"
   ]
  },
  {
   "cell_type": "markdown",
   "metadata": {},
   "source": [
    "##### STUDENT TEXT CELL: add to this text cell to answer question (g)\n",
    "\n",
    "I would use the second version as the mean of the data points were determined from the same data set instead of being independantly determined, so we can have one less degree of freedom and take away 1 from N in the denominator of the equation."
   ]
  },
  {
   "cell_type": "markdown",
   "metadata": {},
   "source": [
    "### (h)\n",
    "\n",
    "We can also calculate the standard error of the mean, which is given by \n",
    "$$\\alpha = \\frac{\\sigma_{(N-1)}}{\\sqrt{N}}$$\n",
    "Apply what you've learned above to calculate this in the cell below. "
   ]
  },
  {
   "cell_type": "code",
   "execution_count": 37,
   "metadata": {
    "scrolled": true
   },
   "outputs": [
    {
     "name": "stdout",
     "output_type": "stream",
     "text": [
      "Standard error of the mean is 12.882546332150334\n"
     ]
    }
   ],
   "source": [
    "### STUDENT CODE CELL\n",
    "\n",
    "standard_error = (standard_deviation/(Number_of_data_points)**(.5))\n",
    "print(f'Standard error of the mean is {standard_error}')\n",
    "\n",
    "#The (n-1) part looks like its part of the equation when its actually a subscript. A lot of time was wasted before figuring this out"
   ]
  },
  {
   "cell_type": "markdown",
   "metadata": {},
   "source": [
    "### (i)\n",
    "\n",
    "Finally, use your web-searching skills to find a Python function that will calculate the standard error of the mean for you, and verify that you get the same result when using this function. (Hint: this function is not in NumPy, so you will need to import another package!)"
   ]
  },
  {
   "cell_type": "code",
   "execution_count": 26,
   "metadata": {},
   "outputs": [
    {
     "name": "stdout",
     "output_type": "stream",
     "text": [
      "Standard error of the mean is 12.882546332150334, which agrees with the previous calculation\n"
     ]
    }
   ],
   "source": [
    "### STUDENT CODE CELL\n",
    "\n",
    "from scipy.stats import sem\n",
    "\n",
    "standard_error_2 = sem(data)\n",
    "\n",
    "print(f'Standard error of the mean is {standard_error_2}, which agrees with the previous calculation')"
   ]
  }
 ],
 "metadata": {
  "kernelspec": {
   "display_name": "Python 3 (ipykernel)",
   "language": "python",
   "name": "python3"
  },
  "language_info": {
   "codemirror_mode": {
    "name": "ipython",
    "version": 3
   },
   "file_extension": ".py",
   "mimetype": "text/x-python",
   "name": "python",
   "nbconvert_exporter": "python",
   "pygments_lexer": "ipython3",
   "version": "3.9.12"
  },
  "toc": {
   "base_numbering": 1,
   "nav_menu": {},
   "number_sections": false,
   "sideBar": true,
   "skip_h1_title": false,
   "title_cell": "Table of Contents",
   "title_sidebar": "Contents",
   "toc_cell": false,
   "toc_position": {},
   "toc_section_display": true,
   "toc_window_display": false
  }
 },
 "nbformat": 4,
 "nbformat_minor": 2
}
